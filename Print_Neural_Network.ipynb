{
 "cells": [
  {
   "cell_type": "markdown",
   "metadata": {},
   "source": [
    "# Import Packages\n",
    "* fake_data for generating data and labels\n",
    "* torch for build networks\n",
    "* pickle for loading data\n",
    "\n",
    "The network parameter types of pytorch in the code should be consistent:\n",
    "```python\n",
    "torch.set_default_tensor_type(torch.FloatTensor)\n",
    "```\n",
    "and sometimes the kernel of jupterbook appears to have died, In order to prevent it from happening, so set:\n",
    "```python\n",
    "os.environ['KMP_DUPLICATE_LIB_OK']='True'\n",
    "```"
   ]
  },
  {
   "cell_type": "code",
   "execution_count": 92,
   "metadata": {},
   "outputs": [],
   "source": [
    "import os\n",
    "import math\n",
    "import torch\n",
    "import random\n",
    "import pickle\n",
    "import calendar\n",
    "import numpy as np\n",
    "import training \n",
    "import matplotlib.pyplot as plt\n",
    "from torch.utils.data import TensorDataset, DataLoader\n",
    "os.environ['KMP_DUPLICATE_LIB_OK']='True'\n",
    "torch.set_default_tensor_type(torch.FloatTensor)"
   ]
  },
  {
   "cell_type": "markdown",
   "metadata": {},
   "source": [
    "# Loading data\n",
    "Input data\\(X)'s size is \\[16,10992], 10992 examples, 16 features. y is the corresponding labels, which has 10 classes\\(0~9).\n",
    "The data is divided into train, valid and test, which ratio is 6:2:2. Then the value of data is transformed to \\[0,1]."
   ]
  },
  {
   "cell_type": "code",
   "execution_count": 93,
   "metadata": {},
   "outputs": [],
   "source": [
    "with open('Dataset_Pendigits.p', 'rb') as f:\n",
    "    dataset = pickle.load(f)\n",
    "X = dataset['X'].float().T\n",
    "y = dataset['y'].unsqueeze(1).T\n",
    "#E, N_features, N_class = X.shape[0], X.shape[1], torch.max(\n",
    "#    torch.unique(y)).item()+1\n",
    "x_train, y_train, x_valid, y_valid,x_test,y_test=training.SplitData(X,y,0.6,0.2,seed=0)\n",
    "x_train= x_train - torch.min(x_train, axis=0)[0]\n",
    "x_train= x_train/ (torch.max(x_train, axis=0)[0])\n",
    "x_valid= x_valid - torch.min(x_valid, axis=0)[0]\n",
    "x_valid= x_valid/ (torch.max(x_valid, axis=0)[0])\n",
    "x_test= x_test - torch.min(x_test, axis=0)[0]\n",
    "x_test= x_test/ (torch.max(x_test, axis=0)[0])\n",
    "x_train,y_train,x_valid, y_valid,x_test, y_test =x_train.T ,y_train.flatten().long(),x_valid.T ,y_valid.flatten().long(),x_test.T ,y_test.flatten().long()\n",
    "train_ds = TensorDataset(x_train, y_train)\n",
    "train_loader = DataLoader(train_ds, batch_size=y_train.numel())\n",
    "valid_ds = TensorDataset(x_valid, y_valid)\n",
    "valid_loader = DataLoader(valid_ds, batch_size=y_valid.numel())\n",
    "test_ds = TensorDataset(x_test, y_test)\n",
    "test_loader = DataLoader(test_ds, batch_size=y_test.numel())"
   ]
  },
  {
   "cell_type": "markdown",
   "metadata": {},
   "source": [
    "# Define neural network\n",
    "this is a network which has 16 input units, 5 hidden units and 10 output units. "
   ]
  },
  {
   "cell_type": "code",
   "execution_count": 94,
   "metadata": {},
   "outputs": [],
   "source": [
    "class DynamicLayer(torch.nn.Module):\n",
    "    # initialize the class\n",
    "    def __init__(self,in_d,out_d):\n",
    "        super().__init__()\n",
    "        self.g=torch.nn.Parameter(torch.randn(in_d+2,out_d))\n",
    "        \n",
    "    def Tanh(self,x):\n",
    "        return (torch.exp(x) - torch.exp(-x) )/ (torch.exp(x) + torch.exp(-x))\n",
    "    #def Tanh(self,x,a,b,c,d):\n",
    "    #    return a+b*(torch.exp((x-c)*d) - torch.exp(-(x-c)*d)) / (torch.exp((x-c)*d) + torch.exp(-(x-c)*d))\n",
    "    @property\n",
    "    def w(self):\n",
    "        return self.g.abs()/(self.g.abs().sum(dim=0))\n",
    "    \n",
    "    def linear(self,data,weight): \n",
    "        vb=torch.ones((data.shape[0],1))\n",
    "        vd=torch.zeros((data.shape[0],1))\n",
    "        data=torch.cat((data,vb,vd),1)     \n",
    "        output=torch.zeros(data.shape[0],weight.shape[1])\n",
    "        for i in range(weight.shape[1]):\n",
    "            fakedata=data.clone()\n",
    "            index=torch.where(weight[:,i])\n",
    "            for number in index:\n",
    "                data[:,number]=-fakedata[:,number]\n",
    "            output_i=torch.mm(data,weight[:,i].unsqueeze(1)) \n",
    "            output[:,i]=output_i.squeeze()\n",
    "        #output=torch.mm(data,weight)\n",
    "        return output\n",
    "       \n",
    "    def forward(self, x):         \n",
    "        x=self.Tanh(self.linear(x,self.w))\n",
    "        return x       "
   ]
  },
  {
   "cell_type": "code",
   "execution_count": 95,
   "metadata": {},
   "outputs": [],
   "source": [
    "class DynamicNet(torch.nn.Module):\n",
    "    def __init__(self):\n",
    "        super().__init__()\n",
    "        #self.g1=torch.nn.Parameter(torch.randn(7,10))\n",
    "        self.layer1=DynamicLayer(in_d=16,out_d=5)\n",
    "        self.layer2=DynamicLayer(in_d=5,out_d=10)\n",
    "    \n",
    "    \n",
    "    def forward(self, x):        \n",
    "        x=self.layer1(x)\n",
    "        x=self.layer2(x)\n",
    "        \n",
    "        #x=self.linear(x,self.w(self.g1))\n",
    "        return x       "
   ]
  },
  {
   "cell_type": "markdown",
   "metadata": {},
   "source": [
    "# Initial Parameters of Weight"
   ]
  },
  {
   "cell_type": "code",
   "execution_count": 78,
   "metadata": {
    "scrolled": true
   },
   "outputs": [
    {
     "name": "stdout",
     "output_type": "stream",
     "text": [
      "[Parameter containing:\n",
      "tensor([[ 5.0536e-01, -1.2335e-01, -9.8330e-02,  5.7941e-01, -9.2380e-02],\n",
      "        [-2.2507e-01, -4.0093e-01, -4.7184e-02, -1.3110e+00, -1.9283e+00],\n",
      "        [ 1.1235e+00, -7.1757e-01, -2.0265e+00, -1.1439e+00, -6.6647e-02],\n",
      "        [-6.0107e-01,  4.5145e-01, -3.6709e-01, -9.5386e-01, -8.4613e-01],\n",
      "        [ 6.9578e-01,  1.0945e+00, -5.0804e-01, -4.7111e-01, -8.7869e-01],\n",
      "        [ 1.1407e-01,  1.2807e-01,  1.0591e+00, -2.9482e-01,  1.1040e+00],\n",
      "        [-2.4654e+00, -1.4785e+00,  1.2659e+00,  1.0890e-01, -7.9559e-01],\n",
      "        [-2.9031e+00,  5.5079e-01,  1.1495e+00, -1.7039e-01, -1.9767e+00],\n",
      "        [-2.2044e+00,  1.0707e+00,  1.8059e-01,  8.8479e-02,  1.1786e-01],\n",
      "        [-2.9599e-01, -6.3283e-01,  7.7413e-04,  4.7265e-02,  1.0699e+00],\n",
      "        [-1.5355e+00,  1.0960e+00, -7.6134e-01,  2.7015e-01, -9.0298e-01],\n",
      "        [ 1.1121e+00, -2.2617e+00,  1.2802e+00, -4.6817e-01, -1.1164e+00],\n",
      "        [-4.5858e-01,  3.6300e-01, -1.2239e+00, -3.5887e-02,  8.7331e-01],\n",
      "        [ 4.4195e-01,  1.2785e+00,  3.2903e-01, -4.8608e-01, -6.4211e-01],\n",
      "        [ 1.4707e+00, -2.4205e+00,  3.1237e-01, -9.3991e-01, -7.0431e-01],\n",
      "        [-5.2027e-01,  2.2532e-01, -1.1271e+00,  1.3932e-01,  9.9542e-01],\n",
      "        [-1.7295e+00,  2.2479e+00,  1.3779e+00, -1.7023e+00, -2.3479e-01],\n",
      "        [ 2.8504e-01, -1.1693e+00, -9.0893e-02,  4.0267e-01,  4.8340e-01]],\n",
      "       requires_grad=True), Parameter containing:\n",
      "tensor([[-0.2140, -1.8481,  0.1127,  0.1991, -0.9311, -0.4792,  1.5136, -1.6064,\n",
      "          0.2720,  1.2026],\n",
      "        [ 0.6121,  2.5359, -0.9732,  0.0869,  2.5397,  1.3014,  1.1312, -0.5978,\n",
      "          0.5307,  0.6139],\n",
      "        [ 0.4875,  0.3974, -1.6304,  0.5036,  1.0432, -1.2685,  1.2594,  0.1314,\n",
      "         -0.6291, -1.3702],\n",
      "        [ 0.9406, -1.2363, -0.0047,  1.1423,  0.0408,  0.1524, -1.0052,  1.3246,\n",
      "         -0.7879,  1.3176],\n",
      "        [ 0.8638, -0.9178, -0.1493,  0.7623, -0.1284, -0.3135,  1.4214,  0.0434,\n",
      "         -0.2373, -1.5550],\n",
      "        [-1.0067,  1.2919, -1.0351, -0.1276,  1.8492, -0.8448,  1.1842,  0.1005,\n",
      "         -0.5746,  0.0572],\n",
      "        [ 0.1099, -0.1112, -0.7265,  0.6286,  0.0367,  0.8207,  0.0929,  0.6649,\n",
      "          1.6473, -0.9514]], requires_grad=True)]\n"
     ]
    }
   ],
   "source": [
    "model=DynamicNet()\n",
    "params = list(model.parameters())\n",
    "print(params)"
   ]
  },
  {
   "cell_type": "markdown",
   "metadata": {},
   "source": [
    "# Training"
   ]
  },
  {
   "cell_type": "code",
   "execution_count": 96,
   "metadata": {
    "scrolled": true
   },
   "outputs": [
    {
     "name": "stdout",
     "output_type": "stream",
     "text": [
      "The ID for this training is 1653669653.\n"
     ]
    },
    {
     "ename": "RuntimeError",
     "evalue": "one of the variables needed for gradient computation has been modified by an inplace operation: [torch.FloatTensor [6595, 7]], which is output 0 of struct torch::autograd::CopySlices, is at version 10; expected version 9 instead. Hint: enable anomaly detection to find the operation that failed to compute its gradient, with torch.autograd.set_detect_anomaly(True).",
     "output_type": "error",
     "traceback": [
      "\u001b[1;31m---------------------------------------------------------------------------\u001b[0m",
      "\u001b[1;31mRuntimeError\u001b[0m                              Traceback (most recent call last)",
      "\u001b[1;32m<ipython-input-96-5362756ffa41>\u001b[0m in \u001b[0;36m<module>\u001b[1;34m\u001b[0m\n\u001b[0;32m      8\u001b[0m     \u001b[1;31m#scheduler = LambdaLR(optimizer, lr_lambda=lambda epoch: 500/(epoch+500))\u001b[0m\u001b[1;33m\u001b[0m\u001b[1;33m\u001b[0m\u001b[1;33m\u001b[0m\u001b[0m\n\u001b[0;32m      9\u001b[0m     \u001b[0mNN\u001b[0m\u001b[1;33m,\u001b[0m \u001b[0mtrain_loss_NN\u001b[0m\u001b[1;33m,\u001b[0m \u001b[0mvalid_loss_NN\u001b[0m\u001b[1;33m,\u001b[0m \u001b[0mtrain_acc_NN\u001b[0m\u001b[1;33m,\u001b[0m \u001b[0mvalid_acc_NN\u001b[0m\u001b[1;33m,\u001b[0m \u001b[0mepoch_times\u001b[0m\u001b[1;33m=\u001b[0m\u001b[0;31m \u001b[0m\u001b[0;31m\\\u001b[0m\u001b[1;33m\u001b[0m\u001b[1;33m\u001b[0m\u001b[0m\n\u001b[1;32m---> 10\u001b[1;33m     \u001b[0mtraining\u001b[0m\u001b[1;33m.\u001b[0m\u001b[0mtrain_nn_with_scheduler\u001b[0m\u001b[1;33m(\u001b[0m\u001b[0mepoch_times\u001b[0m\u001b[1;33m,\u001b[0m\u001b[0mmodel\u001b[0m\u001b[1;33m,\u001b[0m\u001b[0mtrain_loader\u001b[0m\u001b[1;33m,\u001b[0m \u001b[0mvalid_loader\u001b[0m\u001b[1;33m,\u001b[0m \u001b[0moptimizer\u001b[0m\u001b[1;33m,\u001b[0m\u001b[0mlossfunction\u001b[0m\u001b[1;33m,\u001b[0m \u001b[0mEpoch\u001b[0m\u001b[1;33m=\u001b[0m\u001b[1;36m10\u001b[0m\u001b[1;33m**\u001b[0m\u001b[1;36m10\u001b[0m\u001b[1;33m)\u001b[0m\u001b[1;33m\u001b[0m\u001b[1;33m\u001b[0m\u001b[0m\n\u001b[0m\u001b[0;32m     11\u001b[0m \u001b[1;33m\u001b[0m\u001b[0m\n\u001b[0;32m     12\u001b[0m     \u001b[1;32mwith\u001b[0m \u001b[0mtorch\u001b[0m\u001b[1;33m.\u001b[0m\u001b[0mno_grad\u001b[0m\u001b[1;33m(\u001b[0m\u001b[1;33m)\u001b[0m\u001b[1;33m:\u001b[0m\u001b[1;33m\u001b[0m\u001b[1;33m\u001b[0m\u001b[0m\n",
      "\u001b[1;32m~\\Desktop\\abschluss\\python_script\\training.py\u001b[0m in \u001b[0;36mtrain_nn_with_scheduler\u001b[1;34m(epoch_times, NN, train_loader, valid_loader, optimizer, lossfunction, Epoch)\u001b[0m\n\u001b[0;32m     88\u001b[0m             \u001b[0mtrain_acc\u001b[0m\u001b[1;33m.\u001b[0m\u001b[0mappend\u001b[0m\u001b[1;33m(\u001b[0m\u001b[0macc_train\u001b[0m\u001b[1;33m)\u001b[0m\u001b[1;33m\u001b[0m\u001b[1;33m\u001b[0m\u001b[0m\n\u001b[0;32m     89\u001b[0m \u001b[1;33m\u001b[0m\u001b[0m\n\u001b[1;32m---> 90\u001b[1;33m             \u001b[0mloss\u001b[0m\u001b[1;33m.\u001b[0m\u001b[0mbackward\u001b[0m\u001b[1;33m(\u001b[0m\u001b[1;33m)\u001b[0m\u001b[1;33m\u001b[0m\u001b[1;33m\u001b[0m\u001b[0m\n\u001b[0m\u001b[0;32m     91\u001b[0m             \u001b[0moptimizer\u001b[0m\u001b[1;33m.\u001b[0m\u001b[0mstep\u001b[0m\u001b[1;33m(\u001b[0m\u001b[1;33m)\u001b[0m\u001b[1;33m\u001b[0m\u001b[1;33m\u001b[0m\u001b[0m\n\u001b[0;32m     92\u001b[0m         \u001b[1;31m#scheduler.step()\u001b[0m\u001b[1;33m\u001b[0m\u001b[1;33m\u001b[0m\u001b[1;33m\u001b[0m\u001b[0m\n",
      "\u001b[1;32m~\\anaconda3\\lib\\site-packages\\torch\\_tensor.py\u001b[0m in \u001b[0;36mbackward\u001b[1;34m(self, gradient, retain_graph, create_graph, inputs)\u001b[0m\n\u001b[0;32m    253\u001b[0m                 \u001b[0mcreate_graph\u001b[0m\u001b[1;33m=\u001b[0m\u001b[0mcreate_graph\u001b[0m\u001b[1;33m,\u001b[0m\u001b[1;33m\u001b[0m\u001b[1;33m\u001b[0m\u001b[0m\n\u001b[0;32m    254\u001b[0m                 inputs=inputs)\n\u001b[1;32m--> 255\u001b[1;33m         \u001b[0mtorch\u001b[0m\u001b[1;33m.\u001b[0m\u001b[0mautograd\u001b[0m\u001b[1;33m.\u001b[0m\u001b[0mbackward\u001b[0m\u001b[1;33m(\u001b[0m\u001b[0mself\u001b[0m\u001b[1;33m,\u001b[0m \u001b[0mgradient\u001b[0m\u001b[1;33m,\u001b[0m \u001b[0mretain_graph\u001b[0m\u001b[1;33m,\u001b[0m \u001b[0mcreate_graph\u001b[0m\u001b[1;33m,\u001b[0m \u001b[0minputs\u001b[0m\u001b[1;33m=\u001b[0m\u001b[0minputs\u001b[0m\u001b[1;33m)\u001b[0m\u001b[1;33m\u001b[0m\u001b[1;33m\u001b[0m\u001b[0m\n\u001b[0m\u001b[0;32m    256\u001b[0m \u001b[1;33m\u001b[0m\u001b[0m\n\u001b[0;32m    257\u001b[0m     \u001b[1;32mdef\u001b[0m \u001b[0mregister_hook\u001b[0m\u001b[1;33m(\u001b[0m\u001b[0mself\u001b[0m\u001b[1;33m,\u001b[0m \u001b[0mhook\u001b[0m\u001b[1;33m)\u001b[0m\u001b[1;33m:\u001b[0m\u001b[1;33m\u001b[0m\u001b[1;33m\u001b[0m\u001b[0m\n",
      "\u001b[1;32m~\\anaconda3\\lib\\site-packages\\torch\\autograd\\__init__.py\u001b[0m in \u001b[0;36mbackward\u001b[1;34m(tensors, grad_tensors, retain_graph, create_graph, grad_variables, inputs)\u001b[0m\n\u001b[0;32m    145\u001b[0m         \u001b[0mretain_graph\u001b[0m \u001b[1;33m=\u001b[0m \u001b[0mcreate_graph\u001b[0m\u001b[1;33m\u001b[0m\u001b[1;33m\u001b[0m\u001b[0m\n\u001b[0;32m    146\u001b[0m \u001b[1;33m\u001b[0m\u001b[0m\n\u001b[1;32m--> 147\u001b[1;33m     Variable._execution_engine.run_backward(\n\u001b[0m\u001b[0;32m    148\u001b[0m         \u001b[0mtensors\u001b[0m\u001b[1;33m,\u001b[0m \u001b[0mgrad_tensors_\u001b[0m\u001b[1;33m,\u001b[0m \u001b[0mretain_graph\u001b[0m\u001b[1;33m,\u001b[0m \u001b[0mcreate_graph\u001b[0m\u001b[1;33m,\u001b[0m \u001b[0minputs\u001b[0m\u001b[1;33m,\u001b[0m\u001b[1;33m\u001b[0m\u001b[1;33m\u001b[0m\u001b[0m\n\u001b[0;32m    149\u001b[0m         allow_unreachable=True, accumulate_grad=True)  # allow_unreachable flag\n",
      "\u001b[1;31mRuntimeError\u001b[0m: one of the variables needed for gradient computation has been modified by an inplace operation: [torch.FloatTensor [6595, 7]], which is output 0 of struct torch::autograd::CopySlices, is at version 10; expected version 9 instead. Hint: enable anomaly detection to find the operation that failed to compute its gradient, with torch.autograd.set_detect_anomaly(True)."
     ]
    }
   ],
   "source": [
    "lossfunction = torch.nn.CrossEntropyLoss()\n",
    "epoch_times=[]\n",
    "test_acc=[]\n",
    "for seed in range(10):   \n",
    "    torch.manual_seed(seed)\n",
    "    model =  DynamicNet()\n",
    "    optimizer = torch.optim.Adam(model.parameters(), lr=1e-2, betas=(0.9, 0.99))\n",
    "    #scheduler = LambdaLR(optimizer, lr_lambda=lambda epoch: 500/(epoch+500))\n",
    "    NN, train_loss_NN, valid_loss_NN, train_acc_NN, valid_acc_NN, epoch_times= \\\n",
    "    training.train_nn_with_scheduler(epoch_times,model,train_loader, valid_loader, optimizer,lossfunction, Epoch=10**10)\n",
    "\n",
    "    with torch.no_grad():\n",
    "        for x_test, y_test in test_loader:\n",
    "            prediction_test = NN(x_test)              \n",
    "            yhat_test = torch.argmax(prediction_test.data, 1)\n",
    "            test_correct = torch.sum(yhat_test == y_test.data)\n",
    "            acc_test = test_correct / y_test.numel()\n",
    "            test_acc.append(acc_test)\n",
    "print(test_acc)\n",
    "print(epoch_times)"
   ]
  },
  {
   "cell_type": "code",
   "execution_count": null,
   "metadata": {},
   "outputs": [],
   "source": [
    "print(sum(test_acc)/len(test_acc))\n",
    "test_acc=np.array(test_acc)\n",
    "print(np.std(test_acc))\n",
    "#print(max(test_acc)-sum(test_acc)/len(test_acc))\n",
    "#print(min(test_acc)-sum(test_acc)/len(test_acc))"
   ]
  },
  {
   "cell_type": "markdown",
   "metadata": {},
   "source": [
    "# Result\n",
    "This training lasts 10000 epochs, every 500 epochs print the mean of cross-entropy loss."
   ]
  },
  {
   "cell_type": "code",
   "execution_count": null,
   "metadata": {},
   "outputs": [],
   "source": []
  }
 ],
 "metadata": {
  "kernelspec": {
   "display_name": "Python 3",
   "language": "python",
   "name": "python3"
  },
  "language_info": {
   "codemirror_mode": {
    "name": "ipython",
    "version": 3
   },
   "file_extension": ".py",
   "mimetype": "text/x-python",
   "name": "python",
   "nbconvert_exporter": "python",
   "pygments_lexer": "ipython3",
   "version": "3.8.3"
  }
 },
 "nbformat": 4,
 "nbformat_minor": 4
}
