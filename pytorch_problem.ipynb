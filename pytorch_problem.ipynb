{
 "cells": [
  {
   "cell_type": "code",
   "execution_count": 1,
   "id": "5d3c8bc0",
   "metadata": {},
   "outputs": [],
   "source": [
    "import torch"
   ]
  },
  {
   "cell_type": "markdown",
   "id": "6a034c8d",
   "metadata": {},
   "source": [
    "# 自己给自己赋值"
   ]
  },
  {
   "cell_type": "code",
   "execution_count": 2,
   "id": "86946be9",
   "metadata": {},
   "outputs": [
    {
     "data": {
      "text/plain": [
       "Parameter containing:\n",
       "tensor([0.8984, 0.7343, 0.0526, 0.3328, 0.6675, 0.6494, 0.0475, 0.9037, 0.3651,\n",
       "        0.2628], requires_grad=True)"
      ]
     },
     "execution_count": 2,
     "metadata": {},
     "output_type": "execute_result"
    }
   ],
   "source": [
    "eta1 = torch.nn.Parameter(torch.rand(10), requires_grad=True)\n",
    "eta1"
   ]
  },
  {
   "cell_type": "code",
   "execution_count": 3,
   "id": "82ea4780",
   "metadata": {},
   "outputs": [],
   "source": [
    "eta1 = eta1 * 2"
   ]
  },
  {
   "cell_type": "code",
   "execution_count": 4,
   "id": "67657095",
   "metadata": {},
   "outputs": [
    {
     "data": {
      "text/plain": [
       "tensor([1.7968, 1.4685, 0.1052, 0.6655, 1.3351, 1.2988, 0.0951, 1.8074, 0.7301,\n",
       "        0.5257], grad_fn=<MulBackward0>)"
      ]
     },
     "execution_count": 4,
     "metadata": {},
     "output_type": "execute_result"
    }
   ],
   "source": [
    "eta1"
   ]
  },
  {
   "cell_type": "code",
   "execution_count": 5,
   "id": "b28e6057",
   "metadata": {},
   "outputs": [],
   "source": [
    "eta1.sum().backward()"
   ]
  },
  {
   "cell_type": "code",
   "execution_count": 6,
   "id": "d4a9bfb7",
   "metadata": {},
   "outputs": [
    {
     "name": "stderr",
     "output_type": "stream",
     "text": [
      "/Users/haibinzhao/miniconda3/envs/ML/lib/python3.8/site-packages/torch/_tensor.py:1104: UserWarning: The .grad attribute of a Tensor that is not a leaf Tensor is being accessed. Its .grad attribute won't be populated during autograd.backward(). If you indeed want the .grad field to be populated for a non-leaf Tensor, use .retain_grad() on the non-leaf Tensor. If you access the non-leaf Tensor by mistake, make sure you access the leaf Tensor instead. See github.com/pytorch/pytorch/pull/30531 for more informations. (Triggered internally at  /Users/distiller/project/conda/conda-bld/pytorch_1646755922314/work/build/aten/src/ATen/core/TensorBody.h:475.)\n",
      "  return self._grad\n"
     ]
    }
   ],
   "source": [
    "eta1.grad"
   ]
  },
  {
   "cell_type": "markdown",
   "id": "020a1a12",
   "metadata": {},
   "source": [
    "# 赋值给其他变量名"
   ]
  },
  {
   "cell_type": "code",
   "execution_count": 7,
   "id": "6d74691f",
   "metadata": {},
   "outputs": [
    {
     "data": {
      "text/plain": [
       "Parameter containing:\n",
       "tensor([0.9569, 0.1449, 0.5990, 0.4940, 0.4265, 0.7798, 0.5587, 0.1195, 0.9462,\n",
       "        0.6785], requires_grad=True)"
      ]
     },
     "execution_count": 7,
     "metadata": {},
     "output_type": "execute_result"
    }
   ],
   "source": [
    "eta2 = torch.nn.Parameter(torch.rand(10), requires_grad=True)\n",
    "eta2"
   ]
  },
  {
   "cell_type": "code",
   "execution_count": 8,
   "id": "bb5a96e8",
   "metadata": {},
   "outputs": [],
   "source": [
    "eta_temp = eta2 * 2"
   ]
  },
  {
   "cell_type": "code",
   "execution_count": 9,
   "id": "66db1861",
   "metadata": {},
   "outputs": [
    {
     "data": {
      "text/plain": [
       "tensor([1.9139, 0.2898, 1.1981, 0.9880, 0.8530, 1.5596, 1.1174, 0.2389, 1.8924,\n",
       "        1.3569], grad_fn=<MulBackward0>)"
      ]
     },
     "execution_count": 9,
     "metadata": {},
     "output_type": "execute_result"
    }
   ],
   "source": [
    "eta_temp"
   ]
  },
  {
   "cell_type": "code",
   "execution_count": 10,
   "id": "b658656b",
   "metadata": {},
   "outputs": [],
   "source": [
    "eta_temp.sum().backward()"
   ]
  },
  {
   "cell_type": "code",
   "execution_count": 11,
   "id": "821be213",
   "metadata": {},
   "outputs": [
    {
     "data": {
      "text/plain": [
       "tensor([2., 2., 2., 2., 2., 2., 2., 2., 2., 2.])"
      ]
     },
     "execution_count": 11,
     "metadata": {},
     "output_type": "execute_result"
    }
   ],
   "source": [
    "eta2.grad"
   ]
  },
  {
   "cell_type": "markdown",
   "id": "37da59f5",
   "metadata": {},
   "source": [
    "# 直接赋值其他变量"
   ]
  },
  {
   "cell_type": "code",
   "execution_count": 12,
   "id": "e820e6da",
   "metadata": {},
   "outputs": [
    {
     "data": {
      "text/plain": [
       "Parameter containing:\n",
       "tensor([0.2398, 0.0752, 0.6915, 0.8748, 0.3743, 0.5317, 0.0245, 0.1415, 0.2035,\n",
       "        0.3768], requires_grad=True)"
      ]
     },
     "execution_count": 12,
     "metadata": {},
     "output_type": "execute_result"
    }
   ],
   "source": [
    "v1 = torch.nn.Parameter(torch.rand(10), requires_grad=True)\n",
    "v1"
   ]
  },
  {
   "cell_type": "code",
   "execution_count": 13,
   "id": "49506fe1",
   "metadata": {},
   "outputs": [],
   "source": [
    "a = v1[:4]"
   ]
  },
  {
   "cell_type": "code",
   "execution_count": 14,
   "id": "c9e84a17",
   "metadata": {},
   "outputs": [
    {
     "data": {
      "text/plain": [
       "tensor([0.1629, 0.3993, 0.1851, 0.4098], grad_fn=<SliceBackward0>)"
      ]
     },
     "execution_count": 14,
     "metadata": {},
     "output_type": "execute_result"
    }
   ],
   "source": [
    "a.data.copy_(torch.rand(4))\n",
    "a"
   ]
  },
  {
   "cell_type": "code",
   "execution_count": 15,
   "id": "0d73cdfe",
   "metadata": {},
   "outputs": [
    {
     "data": {
      "text/plain": [
       "Parameter containing:\n",
       "tensor([0.1629, 0.3993, 0.1851, 0.4098, 0.3743, 0.5317, 0.0245, 0.1415, 0.2035,\n",
       "        0.3768], requires_grad=True)"
      ]
     },
     "execution_count": 15,
     "metadata": {},
     "output_type": "execute_result"
    }
   ],
   "source": [
    "v1"
   ]
  },
  {
   "cell_type": "markdown",
   "id": "1d97ff55",
   "metadata": {},
   "source": [
    "# 克隆给其他"
   ]
  },
  {
   "cell_type": "code",
   "execution_count": 16,
   "id": "763f1b56",
   "metadata": {},
   "outputs": [
    {
     "data": {
      "text/plain": [
       "Parameter containing:\n",
       "tensor([0.7166, 0.6798, 0.3551, 0.9799, 0.2783, 0.6407, 0.0289, 0.5479, 0.6294,\n",
       "        0.4445], requires_grad=True)"
      ]
     },
     "execution_count": 16,
     "metadata": {},
     "output_type": "execute_result"
    }
   ],
   "source": [
    "v2 = torch.nn.Parameter(torch.rand(10), requires_grad=True)\n",
    "v2"
   ]
  },
  {
   "cell_type": "code",
   "execution_count": 17,
   "id": "bc257b88",
   "metadata": {},
   "outputs": [],
   "source": [
    "b = v2[:4].clone()"
   ]
  },
  {
   "cell_type": "code",
   "execution_count": 18,
   "id": "2cfc3cff",
   "metadata": {},
   "outputs": [
    {
     "data": {
      "text/plain": [
       "tensor([0.4646, 0.6014, 0.3515, 0.4656], grad_fn=<CloneBackward0>)"
      ]
     },
     "execution_count": 18,
     "metadata": {},
     "output_type": "execute_result"
    }
   ],
   "source": [
    "b.data.copy_(torch.rand(4))\n",
    "b"
   ]
  },
  {
   "cell_type": "code",
   "execution_count": 19,
   "id": "6eee5631",
   "metadata": {},
   "outputs": [
    {
     "data": {
      "text/plain": [
       "Parameter containing:\n",
       "tensor([0.7166, 0.6798, 0.3551, 0.9799, 0.2783, 0.6407, 0.0289, 0.5479, 0.6294,\n",
       "        0.4445], requires_grad=True)"
      ]
     },
     "execution_count": 19,
     "metadata": {},
     "output_type": "execute_result"
    }
   ],
   "source": [
    "v2"
   ]
  },
  {
   "cell_type": "markdown",
   "id": "eb79c321",
   "metadata": {},
   "source": [
    "# 先生成变量，再用torch.no_grad()"
   ]
  },
  {
   "cell_type": "code",
   "execution_count": 20,
   "id": "185f638f",
   "metadata": {},
   "outputs": [
    {
     "data": {
      "text/plain": [
       "Parameter containing:\n",
       "tensor([[-0.4392],\n",
       "        [ 0.9208],\n",
       "        [-2.1834],\n",
       "        [ 0.7074],\n",
       "        [ 0.4114],\n",
       "        [ 0.6539],\n",
       "        [ 1.3077],\n",
       "        [-1.2103],\n",
       "        [-0.6207],\n",
       "        [-0.6490],\n",
       "        [ 0.7914],\n",
       "        [ 0.2057]], requires_grad=True)"
      ]
     },
     "execution_count": 20,
     "metadata": {},
     "output_type": "execute_result"
    }
   ],
   "source": [
    "t = torch.nn.Parameter(torch.randn(12,1), requires_grad=True)\n",
    "t"
   ]
  },
  {
   "cell_type": "code",
   "execution_count": 21,
   "id": "9672158c",
   "metadata": {},
   "outputs": [
    {
     "data": {
      "text/plain": [
       "tensor([[-0.4392,  0.9208, -2.1834,  0.7074],\n",
       "        [ 0.4114,  0.6539,  1.3077, -1.2103],\n",
       "        [-0.6207, -0.6490,  0.7914,  0.2057]], requires_grad=True)"
      ]
     },
     "execution_count": 21,
     "metadata": {},
     "output_type": "execute_result"
    }
   ],
   "source": [
    "with torch.no_grad():\n",
    "    t = t.view(3,4)\n",
    "t"
   ]
  },
  {
   "cell_type": "code",
   "execution_count": 22,
   "id": "e9c9cd76",
   "metadata": {},
   "outputs": [],
   "source": [
    "t.sum().backward()"
   ]
  },
  {
   "cell_type": "code",
   "execution_count": 23,
   "id": "18a27b4f",
   "metadata": {},
   "outputs": [],
   "source": [
    "t.grad"
   ]
  },
  {
   "cell_type": "markdown",
   "id": "11de9377",
   "metadata": {},
   "source": [
    "# 先初始化，再生成变量"
   ]
  },
  {
   "cell_type": "code",
   "execution_count": 24,
   "id": "c23a63e8",
   "metadata": {},
   "outputs": [
    {
     "data": {
      "text/plain": [
       "tensor([[ 0.5310],\n",
       "        [ 0.4474],\n",
       "        [-0.1015],\n",
       "        [-1.0698],\n",
       "        [-0.4346],\n",
       "        [ 0.1871],\n",
       "        [-0.5165],\n",
       "        [ 0.2802],\n",
       "        [ 0.2573],\n",
       "        [-0.3759],\n",
       "        [ 0.2647],\n",
       "        [-0.3205]])"
      ]
     },
     "execution_count": 24,
     "metadata": {},
     "output_type": "execute_result"
    }
   ],
   "source": [
    "k = torch.randn(12,1)\n",
    "k"
   ]
  },
  {
   "cell_type": "code",
   "execution_count": 25,
   "id": "31fcac8f",
   "metadata": {},
   "outputs": [],
   "source": [
    "k = k.view(3,4)"
   ]
  },
  {
   "cell_type": "code",
   "execution_count": 26,
   "id": "b8f9cdf3",
   "metadata": {},
   "outputs": [],
   "source": [
    "kp = torch.nn.Parameter(k, requires_grad=True)"
   ]
  },
  {
   "cell_type": "code",
   "execution_count": 27,
   "id": "4509f3bb",
   "metadata": {},
   "outputs": [],
   "source": [
    "kp.sum().backward()"
   ]
  },
  {
   "cell_type": "code",
   "execution_count": 28,
   "id": "db7cdd06",
   "metadata": {},
   "outputs": [
    {
     "data": {
      "text/plain": [
       "tensor([[1., 1., 1., 1.],\n",
       "        [1., 1., 1., 1.],\n",
       "        [1., 1., 1., 1.]])"
      ]
     },
     "execution_count": 28,
     "metadata": {},
     "output_type": "execute_result"
    }
   ],
   "source": [
    "kp.grad"
   ]
  },
  {
   "cell_type": "code",
   "execution_count": null,
   "id": "996c19bb",
   "metadata": {},
   "outputs": [],
   "source": []
  }
 ],
 "metadata": {
  "kernelspec": {
   "display_name": "ML",
   "language": "python",
   "name": "ml"
  },
  "language_info": {
   "codemirror_mode": {
    "name": "ipython",
    "version": 3
   },
   "file_extension": ".py",
   "mimetype": "text/x-python",
   "name": "python",
   "nbconvert_exporter": "python",
   "pygments_lexer": "ipython3",
   "version": "3.8.13"
  },
  "toc": {
   "base_numbering": 1,
   "nav_menu": {},
   "number_sections": true,
   "sideBar": true,
   "skip_h1_title": false,
   "title_cell": "Table of Contents",
   "title_sidebar": "Contents",
   "toc_cell": false,
   "toc_position": {},
   "toc_section_display": true,
   "toc_window_display": false
  }
 },
 "nbformat": 4,
 "nbformat_minor": 5
}
